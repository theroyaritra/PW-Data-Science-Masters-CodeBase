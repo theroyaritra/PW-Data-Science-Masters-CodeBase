{
  "cells": [
    {
      "cell_type": "code",
      "execution_count": 1,
      "id": "caa311d1-f504-4e9e-9947-82156e9d9244",
      "metadata": {
        "id": "caa311d1-f504-4e9e-9947-82156e9d9244"
      },
      "outputs": [],
      "source": [
        "name=\"Data science Masters\""
      ]
    },
    {
      "cell_type": "code",
      "execution_count": 2,
      "id": "83f4d6bb-0e46-4db1-8dcc-e52e7f547b0d",
      "metadata": {
        "id": "83f4d6bb-0e46-4db1-8dcc-e52e7f547b0d",
        "outputId": "6c770c86-8e5c-4ff4-b970-bc94de9e5212"
      },
      "outputs": [
        {
          "data": {
            "text/plain": [
              "'dATA SCIENCE mASTERS'"
            ]
          },
          "execution_count": 2,
          "metadata": {},
          "output_type": "execute_result"
        }
      ],
      "source": [
        "name.swapcase()"
      ]
    },
    {
      "cell_type": "code",
      "execution_count": 3,
      "id": "24e25ad5-0c75-47c5-a61f-ff066f072b73",
      "metadata": {
        "id": "24e25ad5-0c75-47c5-a61f-ff066f072b73",
        "outputId": "26fe214c-f8b6-4ce7-fdaf-7342a51e6754"
      },
      "outputs": [
        {
          "data": {
            "text/plain": [
              "'Data Science Masters'"
            ]
          },
          "execution_count": 3,
          "metadata": {},
          "output_type": "execute_result"
        }
      ],
      "source": [
        "name.title()"
      ]
    },
    {
      "cell_type": "code",
      "execution_count": 4,
      "id": "9cbdc3d4-1c8a-4f60-9154-d888ccf659eb",
      "metadata": {
        "id": "9cbdc3d4-1c8a-4f60-9154-d888ccf659eb",
        "outputId": "dd34e2f2-99cd-40c2-82a8-e48ff8f4553c"
      },
      "outputs": [
        {
          "data": {
            "text/plain": [
              "'Data science masters'"
            ]
          },
          "execution_count": 4,
          "metadata": {},
          "output_type": "execute_result"
        }
      ],
      "source": [
        "name.capitalize()"
      ]
    },
    {
      "cell_type": "markdown",
      "id": "6b2b9705-999f-4abf-b9a7-9c0de5ab6d87",
      "metadata": {
        "id": "6b2b9705-999f-4abf-b9a7-9c0de5ab6d87"
      },
      "source": [
        "## Reversing a String"
      ]
    },
    {
      "cell_type": "code",
      "execution_count": 5,
      "id": "b7cba88f-804e-4fb8-969b-d074af168af6",
      "metadata": {
        "id": "b7cba88f-804e-4fb8-969b-d074af168af6",
        "outputId": "3d62674d-5fb0-4c4c-a095-7d0205e012b4"
      },
      "outputs": [
        {
          "data": {
            "text/plain": [
              "'sretsaM ecneics ataD'"
            ]
          },
          "execution_count": 5,
          "metadata": {},
          "output_type": "execute_result"
        }
      ],
      "source": [
        "name[::-1]"
      ]
    },
    {
      "cell_type": "code",
      "execution_count": 6,
      "id": "0f2a87ef-4fda-402a-9511-035ee301ded8",
      "metadata": {
        "id": "0f2a87ef-4fda-402a-9511-035ee301ded8",
        "outputId": "75bc894f-4d16-4171-e15b-7850959d20a1"
      },
      "outputs": [
        {
          "data": {
            "text/plain": [
              "'s r e t s a M   e c n e i c s   a t a D'"
            ]
          },
          "execution_count": 6,
          "metadata": {},
          "output_type": "execute_result"
        }
      ],
      "source": [
        "' '.join(reversed(name))"
      ]
    },
    {
      "cell_type": "code",
      "execution_count": 7,
      "id": "0228a3fa-c866-40a2-8a84-96e8c905993d",
      "metadata": {
        "id": "0228a3fa-c866-40a2-8a84-96e8c905993d",
        "outputId": "472ab496-b5d1-42c3-b843-0c41778de3d0"
      },
      "outputs": [
        {
          "data": {
            "text/plain": [
              "'a b c d'"
            ]
          },
          "execution_count": 7,
          "metadata": {},
          "output_type": "execute_result"
        }
      ],
      "source": [
        "\" \".join(\"abcd\")"
      ]
    },
    {
      "cell_type": "code",
      "execution_count": 8,
      "id": "75ffa268-d723-420b-9dc9-31b01d78fe42",
      "metadata": {
        "id": "75ffa268-d723-420b-9dc9-31b01d78fe42",
        "outputId": "26181332-aefc-456d-ed74-b7b93323339e"
      },
      "outputs": [
        {
          "data": {
            "text/plain": [
              "'t n a'"
            ]
          },
          "execution_count": 8,
          "metadata": {},
          "output_type": "execute_result"
        }
      ],
      "source": [
        "' '.join(reversed(\"ant\"))"
      ]
    },
    {
      "cell_type": "code",
      "execution_count": 9,
      "id": "66a06ae5-4cfd-4255-8ec0-08dd4359a4e0",
      "metadata": {
        "id": "66a06ae5-4cfd-4255-8ec0-08dd4359a4e0",
        "outputId": "6038df42-4585-4501-a4a9-98a5907f3b79"
      },
      "outputs": [
        {
          "data": {
            "text/plain": [
              "'t Pwskills n Pwskills a'"
            ]
          },
          "execution_count": 9,
          "metadata": {},
          "output_type": "execute_result"
        }
      ],
      "source": [
        "' Pwskills '.join(reversed(\"ant\"))"
      ]
    },
    {
      "cell_type": "code",
      "execution_count": 10,
      "id": "24dd5fee-d069-485d-8fac-26b232fb5a38",
      "metadata": {
        "id": "24dd5fee-d069-485d-8fac-26b232fb5a38",
        "outputId": "52582d55-559d-4f10-ee5d-cd2368232d20"
      },
      "outputs": [
        {
          "data": {
            "text/plain": [
              "['t', 'n', 'a']"
            ]
          },
          "execution_count": 10,
          "metadata": {},
          "output_type": "execute_result"
        }
      ],
      "source": [
        "## typecasting\n",
        "list(reversed(\"ant\"))"
      ]
    },
    {
      "cell_type": "code",
      "execution_count": 11,
      "id": "efc6c9e7-0e12-4c6b-87b5-0bd2e815454c",
      "metadata": {
        "id": "efc6c9e7-0e12-4c6b-87b5-0bd2e815454c"
      },
      "outputs": [],
      "source": [
        "str1=\"PW is a good company\""
      ]
    },
    {
      "cell_type": "code",
      "execution_count": 12,
      "id": "1a6b0343-c0f0-4901-8030-55a421463cd5",
      "metadata": {
        "id": "1a6b0343-c0f0-4901-8030-55a421463cd5"
      },
      "outputs": [
        {
          "ename": "TypeError",
          "evalue": "reversed expected 1 argument, got 0",
          "output_type": "error",
          "traceback": [
            "\u001b[1;31m---------------------------------------------------------------------------\u001b[0m",
            "\u001b[1;31mTypeError\u001b[0m                                 Traceback (most recent call last)",
            "Cell \u001b[1;32mIn[12], line 1\u001b[0m\n\u001b[1;32m----> 1\u001b[0m \u001b[39mreversed\u001b[39;49m()\n",
            "\u001b[1;31mTypeError\u001b[0m: reversed expected 1 argument, got 0"
          ]
        }
      ],
      "source": [
        "reversed()"
      ]
    },
    {
      "cell_type": "code",
      "execution_count": null,
      "id": "acf981d5-cf92-4fd6-b9e0-61e5026000ac",
      "metadata": {
        "id": "acf981d5-cf92-4fd6-b9e0-61e5026000ac",
        "outputId": "e9463c08-5ab0-4977-cd72-3b3543f23c44"
      },
      "outputs": [
        {
          "data": {
            "text/plain": [
              "['t', 'n', 'a']"
            ]
          },
          "execution_count": 25,
          "metadata": {},
          "output_type": "execute_result"
        }
      ],
      "source": [
        "## typecasting\n",
        "list(reversed(\"ant\"))"
      ]
    },
    {
      "cell_type": "code",
      "execution_count": null,
      "id": "bc219a40-680b-4ac8-b566-04f5c2442493",
      "metadata": {
        "id": "bc219a40-680b-4ac8-b566-04f5c2442493",
        "outputId": "444f7614-9fb1-42f4-8b41-0b392ea2c7b8"
      },
      "outputs": [
        {
          "name": "stdout",
          "output_type": "stream",
          "text": [
            "sretsaM ecneics ataD"
          ]
        }
      ],
      "source": [
        "for i in list(reversed(name)):\n",
        "    print(i,end='')\n"
      ]
    },
    {
      "cell_type": "code",
      "execution_count": null,
      "id": "03a29a7f-352e-49f5-a696-24220fd51aee",
      "metadata": {
        "id": "03a29a7f-352e-49f5-a696-24220fd51aee"
      },
      "outputs": [],
      "source": [
        "## Removing character from the end of the string"
      ]
    },
    {
      "cell_type": "code",
      "execution_count": null,
      "id": "703cb830-8b53-4577-b36d-b22c142dfae8",
      "metadata": {
        "id": "703cb830-8b53-4577-b36d-b22c142dfae8"
      },
      "outputs": [],
      "source": [
        "string_a=\" pwskills \""
      ]
    },
    {
      "cell_type": "code",
      "execution_count": null,
      "id": "204f42cf-9181-4acf-a406-f536d89adf27",
      "metadata": {
        "id": "204f42cf-9181-4acf-a406-f536d89adf27",
        "outputId": "cf679981-72f9-4fbe-a670-b2b145d42011"
      },
      "outputs": [
        {
          "data": {
            "text/plain": [
              "'pwskills'"
            ]
          },
          "execution_count": 30,
          "metadata": {},
          "output_type": "execute_result"
        }
      ],
      "source": [
        "string_a.strip(\" \")"
      ]
    },
    {
      "cell_type": "code",
      "execution_count": null,
      "id": "1281312d-c012-4459-b118-41841157f762",
      "metadata": {
        "id": "1281312d-c012-4459-b118-41841157f762",
        "outputId": "3a86715d-b65a-4c1a-c5dd-0a40cc5cdd3a"
      },
      "outputs": [
        {
          "data": {
            "text/plain": [
              "'pwskills '"
            ]
          },
          "execution_count": 31,
          "metadata": {},
          "output_type": "execute_result"
        }
      ],
      "source": [
        "string_a.lstrip(\" \")"
      ]
    },
    {
      "cell_type": "code",
      "execution_count": null,
      "id": "2b971109-46b5-497c-b5f2-4a1c3cfb599d",
      "metadata": {
        "id": "2b971109-46b5-497c-b5f2-4a1c3cfb599d",
        "outputId": "dc2fe02a-7c22-48c0-de2b-883f41332f67"
      },
      "outputs": [
        {
          "data": {
            "text/plain": [
              "' pwskills'"
            ]
          },
          "execution_count": 32,
          "metadata": {},
          "output_type": "execute_result"
        }
      ],
      "source": [
        "string_a.rstrip(\" \")"
      ]
    },
    {
      "cell_type": "code",
      "execution_count": null,
      "id": "5c11eeae-6c5a-422b-8afd-520250e70754",
      "metadata": {
        "id": "5c11eeae-6c5a-422b-8afd-520250e70754",
        "outputId": "d64d959c-6a42-459a-c68a-505dd6a05688"
      },
      "outputs": [
        {
          "data": {
            "text/plain": [
              "'Welcome to Pwskills'"
            ]
          },
          "execution_count": 37,
          "metadata": {},
          "output_type": "execute_result"
        }
      ],
      "source": [
        "string_n=\"Greeting to Pwskills\"\n",
        "string_n.replace(\"Greeting\",\"Welcome\")"
      ]
    },
    {
      "cell_type": "code",
      "execution_count": null,
      "id": "fa7a6df4-886c-4fe1-9df4-4393acc0a3a7",
      "metadata": {
        "id": "fa7a6df4-886c-4fe1-9df4-4393acc0a3a7"
      },
      "outputs": [],
      "source": [
        "name=\"Krish\""
      ]
    },
    {
      "cell_type": "code",
      "execution_count": null,
      "id": "d1004bba-d3f3-4554-b406-f54647aa67d1",
      "metadata": {
        "id": "d1004bba-d3f3-4554-b406-f54647aa67d1"
      },
      "outputs": [],
      "source": [
        "name=\"pwskills\""
      ]
    },
    {
      "cell_type": "code",
      "execution_count": null,
      "id": "fdb96191-9479-43cb-aac4-b0daaa628b60",
      "metadata": {
        "id": "fdb96191-9479-43cb-aac4-b0daaa628b60",
        "outputId": "69ad00f9-ac4b-4188-a56a-0858106871b1"
      },
      "outputs": [
        {
          "ename": "TypeError",
          "evalue": "'str' object does not support item assignment",
          "output_type": "error",
          "traceback": [
            "\u001b[0;31m---------------------------------------------------------------------------\u001b[0m",
            "\u001b[0;31mTypeError\u001b[0m                                 Traceback (most recent call last)",
            "Cell \u001b[0;32mIn[36], line 1\u001b[0m\n\u001b[0;32m----> 1\u001b[0m \u001b[43mname\u001b[49m\u001b[43m[\u001b[49m\u001b[38;5;241;43m0\u001b[39;49m\u001b[43m]\u001b[49m\u001b[38;5;241m=\u001b[39m\u001b[38;5;124m\"\u001b[39m\u001b[38;5;124mk\u001b[39m\u001b[38;5;124m\"\u001b[39m\n",
            "\u001b[0;31mTypeError\u001b[0m: 'str' object does not support item assignment"
          ]
        }
      ],
      "source": [
        "name[0]=\"k\""
      ]
    },
    {
      "cell_type": "code",
      "execution_count": null,
      "id": "06337072-7e86-42a8-afe4-2aae97865ff8",
      "metadata": {
        "id": "06337072-7e86-42a8-afe4-2aae97865ff8"
      },
      "outputs": [],
      "source": [
        "string_n=\"Greeting to Pwskills\"\n",
        "var_a=string_n.replace(\"G\",\"T\")"
      ]
    },
    {
      "cell_type": "code",
      "execution_count": null,
      "id": "9453e506-abb2-40d4-890f-1c5a30cfead1",
      "metadata": {
        "id": "9453e506-abb2-40d4-890f-1c5a30cfead1",
        "outputId": "d645c27d-fc7a-435c-a472-c55e4f092fd2"
      },
      "outputs": [
        {
          "name": "stdout",
          "output_type": "stream",
          "text": [
            "140496513531328\n",
            "140496507478592\n"
          ]
        }
      ],
      "source": [
        "print(id(string_n))\n",
        "print(id(var_a))"
      ]
    },
    {
      "cell_type": "code",
      "execution_count": null,
      "id": "015f352e-67c8-48f3-a28e-c3dafe744286",
      "metadata": {
        "id": "015f352e-67c8-48f3-a28e-c3dafe744286",
        "outputId": "debe1353-30d3-465d-9848-dd4b0c69a829"
      },
      "outputs": [
        {
          "data": {
            "text/plain": [
              "'hello world'"
            ]
          },
          "execution_count": 41,
          "metadata": {},
          "output_type": "execute_result"
        }
      ],
      "source": [
        "'hello world'"
      ]
    },
    {
      "cell_type": "code",
      "execution_count": null,
      "id": "8e8d250f-3bb1-401c-ad99-03995235a8ea",
      "metadata": {
        "id": "8e8d250f-3bb1-401c-ad99-03995235a8ea",
        "outputId": "f067734b-abbe-4417-d498-8945dd628986"
      },
      "outputs": [
        {
          "data": {
            "text/plain": [
              "'test gmail.com'"
            ]
          },
          "execution_count": 42,
          "metadata": {},
          "output_type": "execute_result"
        }
      ],
      "source": [
        "string_n=\"test@gmail.com\"\n",
        "var_a=string_n.replace(\"@\",\" \")\n",
        "var_a"
      ]
    },
    {
      "cell_type": "code",
      "execution_count": null,
      "id": "1fc572e4-b63c-47f4-b096-28091af4c69a",
      "metadata": {
        "id": "1fc572e4-b63c-47f4-b096-28091af4c69a",
        "outputId": "5c811d29-c73f-41a6-b2f6-e5980b1f5321"
      },
      "outputs": [
        {
          "data": {
            "text/plain": [
              "'hello   world'"
            ]
          },
          "execution_count": 46,
          "metadata": {},
          "output_type": "execute_result"
        }
      ],
      "source": [
        "'hello \\tworld'.expandtabs()"
      ]
    },
    {
      "cell_type": "code",
      "execution_count": null,
      "id": "7209b6f0-e91b-4027-8836-52767c2cc024",
      "metadata": {
        "id": "7209b6f0-e91b-4027-8836-52767c2cc024"
      },
      "outputs": [],
      "source": [
        "str1=\"Welcome to pwskills.Welcome to Dat cience Masters\""
      ]
    },
    {
      "cell_type": "code",
      "execution_count": null,
      "id": "e209c201-1db4-43de-a147-cb2eeaff9dc0",
      "metadata": {
        "id": "e209c201-1db4-43de-a147-cb2eeaff9dc0",
        "outputId": "ffe0bcff-8d5e-44fe-ccde-46aa86aa496f"
      },
      "outputs": [
        {
          "data": {
            "text/plain": [
              "'Welcome to pwskills.Welcome to Data Science Masters'"
            ]
          },
          "execution_count": 49,
          "metadata": {},
          "output_type": "execute_result"
        }
      ],
      "source": [
        "str1.replace(\"Dat\",\"Data\").replace(\"cience\",\"Science\")"
      ]
    },
    {
      "cell_type": "code",
      "execution_count": null,
      "id": "d539fe69-8b87-4289-830c-524fec6c80e2",
      "metadata": {
        "id": "d539fe69-8b87-4289-830c-524fec6c80e2",
        "outputId": "2dac2bdf-92ff-4194-c140-330da9f12ad8"
      },
      "outputs": [
        {
          "data": {
            "text/plain": [
              "'Welcome to pwskills.Welcome to Dat cience Masters'"
            ]
          },
          "execution_count": 51,
          "metadata": {},
          "output_type": "execute_result"
        }
      ],
      "source": [
        "str1"
      ]
    },
    {
      "cell_type": "code",
      "execution_count": null,
      "id": "63abe93f-3b7d-4ba0-83e8-4765df712b9e",
      "metadata": {
        "id": "63abe93f-3b7d-4ba0-83e8-4765df712b9e",
        "outputId": "f8bbbc4f-50e1-4823-a47e-34c88d6269e4"
      },
      "outputs": [
        {
          "data": {
            "text/plain": [
              "False"
            ]
          },
          "execution_count": 52,
          "metadata": {},
          "output_type": "execute_result"
        }
      ],
      "source": [
        "str1.isupper()"
      ]
    },
    {
      "cell_type": "code",
      "execution_count": null,
      "id": "257bbed0-3489-4d88-b5c1-4fbf33c315c9",
      "metadata": {
        "id": "257bbed0-3489-4d88-b5c1-4fbf33c315c9"
      },
      "outputs": [],
      "source": [
        "str1=\"KRISH\""
      ]
    },
    {
      "cell_type": "code",
      "execution_count": null,
      "id": "4b568c89-804b-4960-bdda-ae631e294aaf",
      "metadata": {
        "id": "4b568c89-804b-4960-bdda-ae631e294aaf",
        "outputId": "480ce04a-77bc-4622-9e80-10f109c478c4"
      },
      "outputs": [
        {
          "data": {
            "text/plain": [
              "True"
            ]
          },
          "execution_count": 54,
          "metadata": {},
          "output_type": "execute_result"
        }
      ],
      "source": [
        "str1.isupper()"
      ]
    },
    {
      "cell_type": "code",
      "execution_count": null,
      "id": "97a64c1c-500c-4616-836f-b3c38f33882f",
      "metadata": {
        "id": "97a64c1c-500c-4616-836f-b3c38f33882f",
        "outputId": "d58aca0e-71aa-4bcb-c8ec-f8088e6867ca"
      },
      "outputs": [
        {
          "data": {
            "text/plain": [
              "False"
            ]
          },
          "execution_count": 55,
          "metadata": {},
          "output_type": "execute_result"
        }
      ],
      "source": [
        "str1.islower()"
      ]
    },
    {
      "cell_type": "code",
      "execution_count": null,
      "id": "f4f6f985-6a8a-4400-8964-c8c7a6fc4a46",
      "metadata": {
        "id": "f4f6f985-6a8a-4400-8964-c8c7a6fc4a46",
        "outputId": "5c49a9cf-e740-4eee-efef-641bdc70bd6d"
      },
      "outputs": [
        {
          "data": {
            "text/plain": [
              "True"
            ]
          },
          "execution_count": 57,
          "metadata": {},
          "output_type": "execute_result"
        }
      ],
      "source": [
        "' '.isspace()"
      ]
    },
    {
      "cell_type": "code",
      "execution_count": null,
      "id": "e6275e5a-2486-4a66-9e2c-b1aff8a294bc",
      "metadata": {
        "id": "e6275e5a-2486-4a66-9e2c-b1aff8a294bc",
        "outputId": "0cae8683-289a-4727-d1f3-e2bd6ab039cc"
      },
      "outputs": [
        {
          "name": "stdout",
          "output_type": "stream",
          "text": [
            "Hello\n"
          ]
        }
      ],
      "source": [
        "if \" \".isspace():\n",
        "    print(\"Hello\")"
      ]
    },
    {
      "cell_type": "code",
      "execution_count": null,
      "id": "77126e9f-dadb-4072-add6-56a93f50b9af",
      "metadata": {
        "id": "77126e9f-dadb-4072-add6-56a93f50b9af"
      },
      "outputs": [],
      "source": [
        "str2=\"pwskills\""
      ]
    },
    {
      "cell_type": "code",
      "execution_count": null,
      "id": "b35c91fa-23b3-4760-9ca9-82302ce37635",
      "metadata": {
        "id": "b35c91fa-23b3-4760-9ca9-82302ce37635",
        "outputId": "ff66725f-302c-4e65-eaf7-af1f74a63738"
      },
      "outputs": [
        {
          "data": {
            "text/plain": [
              "True"
            ]
          },
          "execution_count": 60,
          "metadata": {},
          "output_type": "execute_result"
        }
      ],
      "source": [
        "str2.endswith('s')"
      ]
    },
    {
      "cell_type": "code",
      "execution_count": null,
      "id": "73838707-4eaf-4a2d-8faa-80ec4b86e957",
      "metadata": {
        "id": "73838707-4eaf-4a2d-8faa-80ec4b86e957",
        "outputId": "56475d85-393f-4e91-d75d-bc5ef096821c"
      },
      "outputs": [
        {
          "data": {
            "text/plain": [
              "True"
            ]
          },
          "execution_count": 61,
          "metadata": {},
          "output_type": "execute_result"
        }
      ],
      "source": [
        "str2.startswith('p')"
      ]
    },
    {
      "cell_type": "code",
      "execution_count": null,
      "id": "624435ae-fb7b-4f14-8132-89c9ccaaec4b",
      "metadata": {
        "id": "624435ae-fb7b-4f14-8132-89c9ccaaec4b",
        "outputId": "114d71c0-71c8-4517-c1c2-cfa0e3ef0d0c"
      },
      "outputs": [
        {
          "data": {
            "text/plain": [
              "True"
            ]
          },
          "execution_count": 62,
          "metadata": {},
          "output_type": "execute_result"
        }
      ],
      "source": [
        "## check if all the char in string are alphanumeric\n",
        "a=\"abcd1234\"\n",
        "a.isalnum()"
      ]
    },
    {
      "cell_type": "code",
      "execution_count": null,
      "id": "29f7f16e-25a2-4ddd-9e25-1c964be1e606",
      "metadata": {
        "id": "29f7f16e-25a2-4ddd-9e25-1c964be1e606"
      },
      "outputs": [],
      "source": [
        "## to count the number of character in the strings"
      ]
    },
    {
      "cell_type": "code",
      "execution_count": null,
      "id": "8e978e67-40ad-496d-bf4f-3802741c3af5",
      "metadata": {
        "id": "8e978e67-40ad-496d-bf4f-3802741c3af5",
        "outputId": "b3ce2e50-6139-4a7a-de87-5b2e0e9aa475"
      },
      "outputs": [
        {
          "name": "stdout",
          "output_type": "stream",
          "text": [
            "8\n"
          ]
        }
      ],
      "source": [
        "count=0\n",
        "for i in str2:\n",
        "    count=count+1\n",
        "\n",
        "print(count)"
      ]
    },
    {
      "cell_type": "code",
      "execution_count": null,
      "id": "3a648f2a-fbbf-4db7-b46b-c2d641b66a34",
      "metadata": {
        "id": "3a648f2a-fbbf-4db7-b46b-c2d641b66a34",
        "outputId": "851fb1a8-e544-4a0e-db34-8955d6dcded6"
      },
      "outputs": [
        {
          "data": {
            "text/plain": [
              "8"
            ]
          },
          "execution_count": 65,
          "metadata": {},
          "output_type": "execute_result"
        }
      ],
      "source": [
        "len(str2)"
      ]
    },
    {
      "cell_type": "code",
      "execution_count": null,
      "id": "2b7bc49d-a4c8-41dd-84b5-0b680267902b",
      "metadata": {
        "id": "2b7bc49d-a4c8-41dd-84b5-0b680267902b",
        "outputId": "3bdd78c9-bf4e-4cb1-d9a8-c323fbc7f619"
      },
      "outputs": [
        {
          "data": {
            "text/plain": [
              "'pwskills'"
            ]
          },
          "execution_count": 66,
          "metadata": {},
          "output_type": "execute_result"
        }
      ],
      "source": [
        "str2"
      ]
    },
    {
      "cell_type": "code",
      "execution_count": null,
      "id": "47ee2c70-9747-4dae-bbcc-8f3ac58c9a4f",
      "metadata": {
        "id": "47ee2c70-9747-4dae-bbcc-8f3ac58c9a4f",
        "outputId": "6413c5a6-9b41-4250-81f0-10e39cf92fff"
      },
      "outputs": [
        {
          "name": "stdout",
          "output_type": "stream",
          "text": [
            "p\n",
            "w\n",
            "s\n",
            "k\n",
            "i\n",
            "l\n",
            "l\n",
            "s\n"
          ]
        }
      ],
      "source": [
        "for i in str2:\n",
        "    print(i)"
      ]
    },
    {
      "cell_type": "code",
      "execution_count": null,
      "id": "459c3d34-8d7d-4203-a7c8-a8a951844d57",
      "metadata": {
        "id": "459c3d34-8d7d-4203-a7c8-a8a951844d57",
        "outputId": "6f533ed2-b923-4aad-9fbe-8cb0fe305576"
      },
      "outputs": [
        {
          "data": {
            "text/plain": [
              "range(0, 8)"
            ]
          },
          "execution_count": 69,
          "metadata": {},
          "output_type": "execute_result"
        }
      ],
      "source": [
        "range(len(str2))"
      ]
    },
    {
      "cell_type": "code",
      "execution_count": null,
      "id": "3ff9c489-09e9-4e56-b81a-159022d36bca",
      "metadata": {
        "id": "3ff9c489-09e9-4e56-b81a-159022d36bca",
        "outputId": "2b291a83-9e05-4686-c101-0efe1111be7a"
      },
      "outputs": [
        {
          "name": "stdout",
          "output_type": "stream",
          "text": [
            "0 = p\n",
            "1 = w\n",
            "2 = s\n",
            "3 = k\n",
            "4 = i\n",
            "5 = l\n",
            "6 = l\n",
            "7 = s\n"
          ]
        }
      ],
      "source": [
        "for i in range(len(str2)):\n",
        "    print(i,\"=\",str2[i])"
      ]
    },
    {
      "cell_type": "code",
      "execution_count": null,
      "id": "5986e51f-1c78-4f08-8dcf-3043b9da2e08",
      "metadata": {
        "id": "5986e51f-1c78-4f08-8dcf-3043b9da2e08"
      },
      "outputs": [],
      "source": [
        "# We can use index to iterate string reverse direction"
      ]
    },
    {
      "cell_type": "code",
      "execution_count": null,
      "id": "b2e0b9a1-036b-4138-94d4-82d0042fb64a",
      "metadata": {
        "id": "b2e0b9a1-036b-4138-94d4-82d0042fb64a",
        "outputId": "09107fa3-8b6d-4d50-b7b5-df8ed0cda939"
      },
      "outputs": [
        {
          "data": {
            "text/plain": [
              "7"
            ]
          },
          "execution_count": 73,
          "metadata": {},
          "output_type": "execute_result"
        }
      ],
      "source": [
        "len(str2)-1"
      ]
    },
    {
      "cell_type": "code",
      "execution_count": null,
      "id": "47d3e009-4213-4c8c-bd3d-4ba6fc1a209b",
      "metadata": {
        "id": "47d3e009-4213-4c8c-bd3d-4ba6fc1a209b",
        "outputId": "42e19dd1-d054-45d6-82a4-2c64b41758ad"
      },
      "outputs": [
        {
          "name": "stdout",
          "output_type": "stream",
          "text": [
            "s\n",
            "l\n",
            "l\n",
            "i\n",
            "k\n",
            "s\n",
            "w\n",
            "p\n"
          ]
        }
      ],
      "source": [
        "for i in range(len(str2)-1,-1,-1):\n",
        "    print(str2[i])\n"
      ]
    },
    {
      "cell_type": "code",
      "execution_count": null,
      "id": "37fa5f0c-fae6-4b84-acc3-47c0031e2ea3",
      "metadata": {
        "id": "37fa5f0c-fae6-4b84-acc3-47c0031e2ea3",
        "outputId": "b9d620ee-3bf9-4ffd-f5d8-122685d0028c"
      },
      "outputs": [
        {
          "data": {
            "text/plain": [
              "7"
            ]
          },
          "execution_count": 77,
          "metadata": {},
          "output_type": "execute_result"
        }
      ],
      "source": [
        "string=\"pwskills\"\n",
        "ch=len(string)-1\n",
        "ch"
      ]
    },
    {
      "cell_type": "code",
      "execution_count": null,
      "id": "06e319d4-1640-4179-94be-3dc7b72bca6d",
      "metadata": {
        "id": "06e319d4-1640-4179-94be-3dc7b72bca6d",
        "outputId": "43a35a6d-064c-48ee-f4a7-d2cac98e337e"
      },
      "outputs": [
        {
          "data": {
            "text/plain": [
              "('s', 'l', 'l')"
            ]
          },
          "execution_count": 80,
          "metadata": {},
          "output_type": "execute_result"
        }
      ],
      "source": [
        "string[7],string[6],string[5]"
      ]
    },
    {
      "cell_type": "code",
      "execution_count": null,
      "id": "23e15c57-3cc7-4a65-a88c-1cf30fe675f7",
      "metadata": {
        "id": "23e15c57-3cc7-4a65-a88c-1cf30fe675f7",
        "outputId": "1d8dd416-fd3f-423d-f042-988750e6d86c"
      },
      "outputs": [
        {
          "data": {
            "text/plain": [
              "7"
            ]
          },
          "execution_count": 75,
          "metadata": {},
          "output_type": "execute_result"
        }
      ],
      "source": [
        "while ch>=0:\n",
        "    print(string[ch])\n",
        "    ch=ch-1"
      ]
    },
    {
      "cell_type": "code",
      "execution_count": null,
      "id": "c1164220-684f-4e54-a761-be49eefbb20c",
      "metadata": {
        "id": "c1164220-684f-4e54-a761-be49eefbb20c",
        "outputId": "6713e532-b3ef-4541-fe82-ec029edbc905"
      },
      "outputs": [
        {
          "name": "stdout",
          "output_type": "stream",
          "text": [
            "sllikswp"
          ]
        }
      ],
      "source": [
        "#Best solution \n",
        "for i in range(len(string)):\n",
        "     print(string[len(string) - (i+1)],end=\"\")\n"
      ]
    },
    {
      "cell_type": "code",
      "execution_count": null,
      "id": "395e4c35-fb43-4cf0-a403-b197c9692533",
      "metadata": {
        "id": "395e4c35-fb43-4cf0-a403-b197c9692533"
      },
      "outputs": [],
      "source": [
        "Name = \"pwskills\"\n",
        "vowels = \"AaEeIiOoUu\""
      ]
    },
    {
      "cell_type": "code",
      "execution_count": null,
      "id": "97261d1b-1bac-444d-889e-476171e76b91",
      "metadata": {
        "id": "97261d1b-1bac-444d-889e-476171e76b91",
        "outputId": "75024d4d-653a-4c0c-9b84-f9de3546ed87"
      },
      "outputs": [
        {
          "name": "stdout",
          "output_type": "stream",
          "text": [
            "p is not a vowel\n",
            "w is not a vowel\n",
            "s is not a vowel\n",
            "k is not a vowel\n",
            "i is a vowel\n",
            "l is not a vowel\n",
            "l is not a vowel\n",
            "s is not a vowel\n"
          ]
        }
      ],
      "source": [
        "for ch in Name:\n",
        "    if ch in vowels:\n",
        "        print(\"{} is a vowel\".format(ch))\n",
        "    else:\n",
        "        print(\"{} is not a vowel\".format(ch))"
      ]
    },
    {
      "cell_type": "markdown",
      "id": "5d9c75ff-73f2-4e88-95ac-d2724aabee29",
      "metadata": {
        "id": "5d9c75ff-73f2-4e88-95ac-d2724aabee29"
      },
      "source": [
        "## List "
      ]
    },
    {
      "cell_type": "code",
      "execution_count": null,
      "id": "34ea23f1-ee07-4262-b096-ed4e1a153ce8",
      "metadata": {
        "id": "34ea23f1-ee07-4262-b096-ed4e1a153ce8",
        "outputId": "374a1ab8-a05f-4092-8b31-66f060fd51e1"
      },
      "outputs": [
        {
          "data": {
            "text/plain": [
              "list"
            ]
          },
          "execution_count": 89,
          "metadata": {},
          "output_type": "execute_result"
        }
      ],
      "source": [
        "type([])"
      ]
    },
    {
      "cell_type": "code",
      "execution_count": null,
      "id": "1e1f832c-f3f0-40c0-947a-70aa9e76904b",
      "metadata": {
        "id": "1e1f832c-f3f0-40c0-947a-70aa9e76904b",
        "outputId": "1f095451-6a7c-44bf-88b4-b0800d465344"
      },
      "outputs": [
        {
          "data": {
            "text/plain": [
              "['Krish', 'Naik', 'Pwskills', 32]"
            ]
          },
          "execution_count": 90,
          "metadata": {},
          "output_type": "execute_result"
        }
      ],
      "source": [
        "[\"Krish\",\"Naik\",\"Pwskills\",32]"
      ]
    },
    {
      "cell_type": "code",
      "execution_count": null,
      "id": "9436cb77-e161-4046-9d42-a0a291408e91",
      "metadata": {
        "id": "9436cb77-e161-4046-9d42-a0a291408e91",
        "outputId": "1795da34-d7c2-4d26-a1a3-b6aa93a33bd1"
      },
      "outputs": [
        {
          "data": {
            "text/plain": [
              "[1, 2, 3, 4, 5]"
            ]
          },
          "execution_count": 91,
          "metadata": {},
          "output_type": "execute_result"
        }
      ],
      "source": [
        "list([1,2,3,4,5])"
      ]
    },
    {
      "cell_type": "code",
      "execution_count": null,
      "id": "396162c6-d896-4e58-84ce-33ff9c750e2d",
      "metadata": {
        "id": "396162c6-d896-4e58-84ce-33ff9c750e2d",
        "outputId": "c9f621b5-2f33-4e58-aaac-be5a53ee5def"
      },
      "outputs": [
        {
          "data": {
            "text/plain": [
              "'pwskills'"
            ]
          },
          "execution_count": 93,
          "metadata": {},
          "output_type": "execute_result"
        }
      ],
      "source": [
        "str2"
      ]
    },
    {
      "cell_type": "code",
      "execution_count": null,
      "id": "c80b070a-4fe5-4676-a962-d8bb57a35021",
      "metadata": {
        "id": "c80b070a-4fe5-4676-a962-d8bb57a35021",
        "outputId": "b03831f7-d0c3-4003-9983-c73283a6e76d"
      },
      "outputs": [
        {
          "data": {
            "text/plain": [
              "['p', 'w', 's', 'k', 'i', 'l', 'l', 's']"
            ]
          },
          "execution_count": 94,
          "metadata": {},
          "output_type": "execute_result"
        }
      ],
      "source": [
        "list(str2)"
      ]
    },
    {
      "cell_type": "code",
      "execution_count": null,
      "id": "782b3916-fb13-4133-93eb-50f43eae0280",
      "metadata": {
        "id": "782b3916-fb13-4133-93eb-50f43eae0280"
      },
      "outputs": [],
      "source": [
        "str1=\"PW skills Data science masters\""
      ]
    },
    {
      "cell_type": "code",
      "execution_count": null,
      "id": "1bc366f1-ec0b-4f64-a047-ccc8554b645c",
      "metadata": {
        "id": "1bc366f1-ec0b-4f64-a047-ccc8554b645c",
        "outputId": "2534935b-3fad-4a00-dd1a-cf16d1a19daa"
      },
      "outputs": [
        {
          "data": {
            "text/plain": [
              "['PW', 'skills', 'Data', 'science', 'masters']"
            ]
          },
          "execution_count": 96,
          "metadata": {},
          "output_type": "execute_result"
        }
      ],
      "source": [
        "list(str1.split(\" \"))"
      ]
    },
    {
      "cell_type": "code",
      "execution_count": null,
      "id": "558e7dc7-255d-4bb2-b877-b50cdc1ee9f0",
      "metadata": {
        "id": "558e7dc7-255d-4bb2-b877-b50cdc1ee9f0"
      },
      "outputs": [],
      "source": [
        "lst1=str1.split(\" \")"
      ]
    },
    {
      "cell_type": "code",
      "execution_count": null,
      "id": "2de9a3d7-1905-4ce9-b9ad-1174093f28b9",
      "metadata": {
        "id": "2de9a3d7-1905-4ce9-b9ad-1174093f28b9",
        "outputId": "81d0d4f2-e78f-4327-ede9-3c7703d7417f"
      },
      "outputs": [
        {
          "data": {
            "text/plain": [
              "['skills', 'Data', 'science', 'masters']"
            ]
          },
          "execution_count": 101,
          "metadata": {},
          "output_type": "execute_result"
        }
      ],
      "source": [
        "lst1[1:]"
      ]
    },
    {
      "cell_type": "code",
      "execution_count": null,
      "id": "ab21d66b-cf2e-47bf-8766-235d37d918e8",
      "metadata": {
        "id": "ab21d66b-cf2e-47bf-8766-235d37d918e8"
      },
      "outputs": [],
      "source": [
        "lst1[2]=\"Datas\""
      ]
    },
    {
      "cell_type": "code",
      "execution_count": null,
      "id": "be2542ed-9820-4928-9d38-af351b27a56b",
      "metadata": {
        "id": "be2542ed-9820-4928-9d38-af351b27a56b",
        "outputId": "5f8c5d6c-91ed-4736-c8db-7e2cecc4e20f"
      },
      "outputs": [
        {
          "data": {
            "text/plain": [
              "['PW', 'skills', 'Datas', 'science', 'masters']"
            ]
          },
          "execution_count": 104,
          "metadata": {},
          "output_type": "execute_result"
        }
      ],
      "source": [
        "lst1"
      ]
    },
    {
      "cell_type": "code",
      "execution_count": null,
      "id": "67eebcc9-97c7-4ab1-9644-7e49df22cb2e",
      "metadata": {
        "id": "67eebcc9-97c7-4ab1-9644-7e49df22cb2e",
        "outputId": "46a6c7f3-e10d-4a3f-caeb-5289d8ea7417"
      },
      "outputs": [
        {
          "data": {
            "text/plain": [
              "['masters', 'Datas', 'PW']"
            ]
          },
          "execution_count": 108,
          "metadata": {},
          "output_type": "execute_result"
        }
      ],
      "source": [
        "lst1[::-2]"
      ]
    },
    {
      "cell_type": "code",
      "execution_count": null,
      "id": "81aa852e-fbd4-4c58-9f5b-94658abe409e",
      "metadata": {
        "id": "81aa852e-fbd4-4c58-9f5b-94658abe409e",
        "outputId": "665c73ef-2318-47ad-a748-933141cbb4e2"
      },
      "outputs": [
        {
          "data": {
            "text/plain": [
              "['PW']"
            ]
          },
          "execution_count": 112,
          "metadata": {},
          "output_type": "execute_result"
        }
      ],
      "source": [
        "lst1[-5::-2]"
      ]
    },
    {
      "cell_type": "code",
      "execution_count": null,
      "id": "afff9864-9cd6-4382-af08-520707e3e4ef",
      "metadata": {
        "id": "afff9864-9cd6-4382-af08-520707e3e4ef",
        "outputId": "836f2c74-22cf-416f-f51b-62347cd7b35c"
      },
      "outputs": [
        {
          "data": {
            "text/plain": [
              "['PW', 'skills', 'Datas', 'science', 'masters']"
            ]
          },
          "execution_count": 114,
          "metadata": {},
          "output_type": "execute_result"
        }
      ],
      "source": [
        "lst1"
      ]
    },
    {
      "cell_type": "code",
      "execution_count": null,
      "id": "8c136007-e5c4-4286-ad01-1c298276ab9d",
      "metadata": {
        "id": "8c136007-e5c4-4286-ad01-1c298276ab9d",
        "outputId": "5be7c6ab-2a39-49e6-aedd-dc1befa9a930"
      },
      "outputs": [
        {
          "data": {
            "text/plain": [
              "['PW', 'skills', 'Datas', 'science', 'masters', 'new element', 3]"
            ]
          },
          "execution_count": 118,
          "metadata": {},
          "output_type": "execute_result"
        }
      ],
      "source": [
        "## concatenation operation\n",
        "lst1 + ['new element',3]"
      ]
    },
    {
      "cell_type": "code",
      "execution_count": null,
      "id": "f6304597-f7c8-43b7-bf77-7566353672bd",
      "metadata": {
        "id": "f6304597-f7c8-43b7-bf77-7566353672bd"
      },
      "outputs": [],
      "source": [
        "## concatenation operation\n",
        "lst2=lst1 + [['new element',3]]"
      ]
    },
    {
      "cell_type": "code",
      "execution_count": null,
      "id": "fb0db352-da0b-47b6-a4bd-f88bdef65fce",
      "metadata": {
        "id": "fb0db352-da0b-47b6-a4bd-f88bdef65fce",
        "outputId": "4c7dbd58-90f1-4028-9cdc-df99b05cb66c"
      },
      "outputs": [
        {
          "data": {
            "text/plain": [
              "'new element'"
            ]
          },
          "execution_count": 124,
          "metadata": {},
          "output_type": "execute_result"
        }
      ],
      "source": [
        "lst2[-1][0]"
      ]
    },
    {
      "cell_type": "code",
      "execution_count": null,
      "id": "461c4c8f-23cf-41ac-a68a-8eb06adc9129",
      "metadata": {
        "id": "461c4c8f-23cf-41ac-a68a-8eb06adc9129",
        "outputId": "c1a7d63d-8c16-4984-e099-cb501a32ab59"
      },
      "outputs": [
        {
          "data": {
            "text/plain": [
              "['PW',\n",
              " 'skills',\n",
              " 'Datas',\n",
              " 'science',\n",
              " 'masters',\n",
              " 'PW',\n",
              " 'skills',\n",
              " 'Datas',\n",
              " 'science',\n",
              " 'masters']"
            ]
          },
          "execution_count": 127,
          "metadata": {},
          "output_type": "execute_result"
        }
      ],
      "source": [
        "lst1 * 2"
      ]
    },
    {
      "cell_type": "code",
      "execution_count": null,
      "id": "c68366eb-7bdf-4d47-8f61-55f4a7ec0e2d",
      "metadata": {
        "id": "c68366eb-7bdf-4d47-8f61-55f4a7ec0e2d",
        "outputId": "b6b5509a-0707-4a58-8abc-1504414e0aab"
      },
      "outputs": [
        {
          "data": {
            "text/plain": [
              "['PW', 'skills', 'Datas', 'science', 'masters']"
            ]
          },
          "execution_count": 128,
          "metadata": {},
          "output_type": "execute_result"
        }
      ],
      "source": [
        "lst1"
      ]
    },
    {
      "cell_type": "code",
      "execution_count": null,
      "id": "105737df-9b9d-42f3-8ae5-3a31243169ee",
      "metadata": {
        "id": "105737df-9b9d-42f3-8ae5-3a31243169ee",
        "outputId": "8c1abddc-4f35-4e65-90d7-d4d83014f5b9"
      },
      "outputs": [
        {
          "name": "stdout",
          "output_type": "stream",
          "text": [
            "Present\n"
          ]
        }
      ],
      "source": [
        "if \"science\" in lst1:\n",
        "    print(\"Present\")"
      ]
    },
    {
      "cell_type": "code",
      "execution_count": null,
      "id": "7ba31690-b43f-42c8-ac7d-48298af174b6",
      "metadata": {
        "id": "7ba31690-b43f-42c8-ac7d-48298af174b6",
        "outputId": "54627f3e-d60f-48d9-e66e-cdc66325b539"
      },
      "outputs": [
        {
          "name": "stdout",
          "output_type": "stream",
          "text": [
            "science\n"
          ]
        }
      ],
      "source": [
        "for elements in lst1:\n",
        "    if elements==\"science\":\n",
        "        print(elements)\n",
        "        break"
      ]
    },
    {
      "cell_type": "code",
      "execution_count": null,
      "id": "835b2e11-71d7-4dd2-9e38-25b0267d6c41",
      "metadata": {
        "id": "835b2e11-71d7-4dd2-9e38-25b0267d6c41",
        "outputId": "0a912c9c-d292-483d-b6b1-6660d295c918"
      },
      "outputs": [
        {
          "data": {
            "text/plain": [
              "True"
            ]
          },
          "execution_count": 140,
          "metadata": {},
          "output_type": "execute_result"
        }
      ],
      "source": [
        "## check elements inside a list\n",
        "lst=[1,2,3,4]\n",
        "4 in lst"
      ]
    },
    {
      "cell_type": "code",
      "execution_count": null,
      "id": "feb232dc-57db-4ef6-9c13-b9c72ac1327e",
      "metadata": {
        "id": "feb232dc-57db-4ef6-9c13-b9c72ac1327e",
        "outputId": "bce629b9-a3b6-42d2-beca-5caebb678dba"
      },
      "outputs": [
        {
          "data": {
            "text/plain": [
              "True"
            ]
          },
          "execution_count": 141,
          "metadata": {},
          "output_type": "execute_result"
        }
      ],
      "source": [
        "2.0 in lst"
      ]
    },
    {
      "cell_type": "code",
      "execution_count": null,
      "id": "cda9674b-2ad6-4a8f-99d4-5c650f9e1bbd",
      "metadata": {
        "id": "cda9674b-2ad6-4a8f-99d4-5c650f9e1bbd"
      },
      "outputs": [],
      "source": [
        "lst1=[\"Zebra\",\"Monkey\",\"Donkey\",\"Lion\"]\n",
        "lst2=[5,6,2,9,5,8,6]"
      ]
    },
    {
      "cell_type": "code",
      "execution_count": null,
      "id": "4df177a1-9364-4040-9bf5-3a611220d8d6",
      "metadata": {
        "id": "4df177a1-9364-4040-9bf5-3a611220d8d6",
        "outputId": "de28866f-6a7b-445b-a95a-dcd5448fa597"
      },
      "outputs": [
        {
          "name": "stdout",
          "output_type": "stream",
          "text": [
            "Zebra\n"
          ]
        }
      ],
      "source": [
        "print(max(lst1))"
      ]
    },
    {
      "cell_type": "code",
      "execution_count": null,
      "id": "e3b707c6-4e1f-49a2-b599-3afb54ff5d85",
      "metadata": {
        "id": "e3b707c6-4e1f-49a2-b599-3afb54ff5d85",
        "outputId": "158f4448-b218-4518-e7ea-f9eeb8716f84"
      },
      "outputs": [
        {
          "data": {
            "text/plain": [
              "9"
            ]
          },
          "execution_count": 144,
          "metadata": {},
          "output_type": "execute_result"
        }
      ],
      "source": [
        "max(lst2)"
      ]
    },
    {
      "cell_type": "code",
      "execution_count": null,
      "id": "4b3d7bf3-2a2d-4f71-a060-8532e18ab42b",
      "metadata": {
        "id": "4b3d7bf3-2a2d-4f71-a060-8532e18ab42b",
        "outputId": "c553e8be-edc3-4bc1-9ed5-7226c930dc97"
      },
      "outputs": [
        {
          "data": {
            "text/plain": [
              "'Donkey'"
            ]
          },
          "execution_count": 145,
          "metadata": {},
          "output_type": "execute_result"
        }
      ],
      "source": [
        "min(lst1)"
      ]
    },
    {
      "cell_type": "code",
      "execution_count": null,
      "id": "57ba0f95-8cef-461d-8ab7-95ff0ff17525",
      "metadata": {
        "id": "57ba0f95-8cef-461d-8ab7-95ff0ff17525",
        "outputId": "38ec2b3d-e37c-46d1-b69a-0f7acbbb8f54"
      },
      "outputs": [
        {
          "data": {
            "text/plain": [
              "2"
            ]
          },
          "execution_count": 146,
          "metadata": {},
          "output_type": "execute_result"
        }
      ],
      "source": [
        "min(lst2)"
      ]
    },
    {
      "cell_type": "code",
      "execution_count": null,
      "id": "21a8cd16-23b1-43cb-9f67-3952d16de52d",
      "metadata": {
        "id": "21a8cd16-23b1-43cb-9f67-3952d16de52d",
        "outputId": "aaeae3fd-3a0e-46e3-e270-e2c8c640f471"
      },
      "outputs": [
        {
          "data": {
            "text/plain": [
              "True"
            ]
          },
          "execution_count": 149,
          "metadata": {},
          "output_type": "execute_result"
        }
      ],
      "source": [
        "1.9999999999999999 in [2, 4, 5]\n"
      ]
    },
    {
      "cell_type": "code",
      "execution_count": null,
      "id": "13e83260-7145-4dd0-8688-bb66efb198b5",
      "metadata": {
        "id": "13e83260-7145-4dd0-8688-bb66efb198b5",
        "outputId": "1563aa55-0a0a-4045-cc67-13856d6b062b"
      },
      "outputs": [
        {
          "data": {
            "text/plain": [
              "True"
            ]
          },
          "execution_count": 148,
          "metadata": {},
          "output_type": "execute_result"
        }
      ],
      "source": [
        "5==5.0"
      ]
    },
    {
      "cell_type": "code",
      "execution_count": null,
      "id": "bbc8d5c0-fa87-4949-9412-8fe9251d3453",
      "metadata": {
        "id": "bbc8d5c0-fa87-4949-9412-8fe9251d3453"
      },
      "outputs": [],
      "source": [
        "lst3=[5,6,2,9,5,8,6]\n",
        "type(lst3[0])  ## output is integer\n",
        "type(5.0)  ### output is float\n",
        "5.0 in lst3 ## output is TRUE\n"
      ]
    },
    {
      "cell_type": "code",
      "execution_count": null,
      "id": "a974f5de-61d0-4d63-acd5-4be46eba2e13",
      "metadata": {
        "id": "a974f5de-61d0-4d63-acd5-4be46eba2e13"
      },
      "outputs": [],
      "source": [
        "## Append"
      ]
    },
    {
      "cell_type": "code",
      "execution_count": null,
      "id": "342379a6-dfa1-4737-ab25-64877fe131d9",
      "metadata": {
        "id": "342379a6-dfa1-4737-ab25-64877fe131d9"
      },
      "outputs": [],
      "source": [
        "lst=[1,2,3,4,5,6]"
      ]
    },
    {
      "cell_type": "code",
      "execution_count": null,
      "id": "7775d7c7-3b2c-4baf-ae12-4bec259cf987",
      "metadata": {
        "id": "7775d7c7-3b2c-4baf-ae12-4bec259cf987",
        "outputId": "9af2b0aa-60fe-4dff-c4f7-48efb71fef4d"
      },
      "outputs": [
        {
          "data": {
            "text/plain": [
              "[1, 2, 3, 4, 5, 6]"
            ]
          },
          "execution_count": 151,
          "metadata": {},
          "output_type": "execute_result"
        }
      ],
      "source": [
        "lst"
      ]
    },
    {
      "cell_type": "code",
      "execution_count": null,
      "id": "e43924c6-1a51-46b0-9130-2f8830e45e07",
      "metadata": {
        "id": "e43924c6-1a51-46b0-9130-2f8830e45e07"
      },
      "outputs": [],
      "source": [
        "lst.append(\"Pwskills\")"
      ]
    },
    {
      "cell_type": "code",
      "execution_count": null,
      "id": "cbe06e31-9079-4c79-a5aa-34d4c248a5d1",
      "metadata": {
        "id": "cbe06e31-9079-4c79-a5aa-34d4c248a5d1",
        "outputId": "147c8171-9553-4931-e7d6-3d9fa65ec43b"
      },
      "outputs": [
        {
          "data": {
            "text/plain": [
              "[1, 2, 3, 4, 5, 6, 'Pwskills']"
            ]
          },
          "execution_count": 154,
          "metadata": {},
          "output_type": "execute_result"
        }
      ],
      "source": [
        "lst"
      ]
    },
    {
      "cell_type": "code",
      "execution_count": null,
      "id": "59ee96ba-aaf3-498d-a0ab-f52b2ff3daea",
      "metadata": {
        "id": "59ee96ba-aaf3-498d-a0ab-f52b2ff3daea"
      },
      "outputs": [],
      "source": [
        "lst.append(['Data','Science','Masters'])"
      ]
    },
    {
      "cell_type": "code",
      "execution_count": null,
      "id": "ac805a18-8c1b-4609-8cab-4ed22027e552",
      "metadata": {
        "id": "ac805a18-8c1b-4609-8cab-4ed22027e552",
        "outputId": "4cd42f85-bc72-4f92-8fc3-3268683286ca"
      },
      "outputs": [
        {
          "data": {
            "text/plain": [
              "[1, 2, 3, 4, 5, 6, 'Pwskills', ['Data', 'Science', 'Masters']]"
            ]
          },
          "execution_count": 156,
          "metadata": {},
          "output_type": "execute_result"
        }
      ],
      "source": [
        "lst"
      ]
    },
    {
      "cell_type": "code",
      "execution_count": null,
      "id": "d79fff96-a3fd-4833-b01c-b82687566fc5",
      "metadata": {
        "id": "d79fff96-a3fd-4833-b01c-b82687566fc5"
      },
      "outputs": [],
      "source": [
        "lst1=[\"Zebra\",\"Monkey\",\"Donkey\",\"Lion\"]"
      ]
    },
    {
      "cell_type": "code",
      "execution_count": null,
      "id": "f32841d3-8268-421a-8e6a-d6fe2f89e597",
      "metadata": {
        "id": "f32841d3-8268-421a-8e6a-d6fe2f89e597",
        "outputId": "3179fd33-2d31-4a62-88bf-73eaaade994d"
      },
      "outputs": [
        {
          "data": {
            "text/plain": [
              "'Lion'"
            ]
          },
          "execution_count": 159,
          "metadata": {},
          "output_type": "execute_result"
        }
      ],
      "source": [
        "lst1.pop()"
      ]
    },
    {
      "cell_type": "code",
      "execution_count": null,
      "id": "639b1fda-3948-4bda-9b0c-f8dcd1b65f93",
      "metadata": {
        "id": "639b1fda-3948-4bda-9b0c-f8dcd1b65f93",
        "outputId": "86b4b736-e62d-4187-dd6f-7dda13dd39e9"
      },
      "outputs": [
        {
          "data": {
            "text/plain": [
              "'Donkey'"
            ]
          },
          "execution_count": 162,
          "metadata": {},
          "output_type": "execute_result"
        }
      ],
      "source": [
        "lst1.pop(2)"
      ]
    },
    {
      "cell_type": "code",
      "execution_count": null,
      "id": "5f448ae8-f06a-4901-87d4-5a589606c69d",
      "metadata": {
        "id": "5f448ae8-f06a-4901-87d4-5a589606c69d",
        "outputId": "cb34723f-b4a4-449c-ff98-0a2726718822"
      },
      "outputs": [
        {
          "data": {
            "text/plain": [
              "['Zebra', 'Monkey']"
            ]
          },
          "execution_count": 163,
          "metadata": {},
          "output_type": "execute_result"
        }
      ],
      "source": [
        "lst1"
      ]
    },
    {
      "cell_type": "code",
      "execution_count": null,
      "id": "d22153fd-9e54-4c4d-aa63-2efa8961322b",
      "metadata": {
        "id": "d22153fd-9e54-4c4d-aa63-2efa8961322b"
      },
      "outputs": [],
      "source": [
        "lst1=[\"Zebra\",\"Monkey\",\"Donkey\",\"Lion\"]"
      ]
    },
    {
      "cell_type": "code",
      "execution_count": null,
      "id": "320291bf-adbf-4687-a147-94c81ac3589f",
      "metadata": {
        "id": "320291bf-adbf-4687-a147-94c81ac3589f",
        "outputId": "147c5b21-d76f-45c2-d0a5-4df2b145eac3"
      },
      "outputs": [
        {
          "data": {
            "text/plain": [
              "'Zebra'"
            ]
          },
          "execution_count": 165,
          "metadata": {},
          "output_type": "execute_result"
        }
      ],
      "source": [
        "removed_element=lst1.pop(0)\n",
        "removed_element\n"
      ]
    },
    {
      "cell_type": "code",
      "execution_count": null,
      "id": "72260adc-9779-414a-8595-8a15e2520d0f",
      "metadata": {
        "id": "72260adc-9779-414a-8595-8a15e2520d0f",
        "outputId": "0186573a-2acf-4c0c-f917-36624535db90"
      },
      "outputs": [
        {
          "ename": "IndexError",
          "evalue": "list index out of range",
          "output_type": "error",
          "traceback": [
            "\u001b[0;31m---------------------------------------------------------------------------\u001b[0m",
            "\u001b[0;31mIndexError\u001b[0m                                Traceback (most recent call last)",
            "Cell \u001b[0;32mIn[167], line 1\u001b[0m\n\u001b[0;32m----> 1\u001b[0m \u001b[43mlst1\u001b[49m\u001b[43m[\u001b[49m\u001b[38;5;241;43m100\u001b[39;49m\u001b[43m]\u001b[49m\n",
            "\u001b[0;31mIndexError\u001b[0m: list index out of range"
          ]
        }
      ],
      "source": [
        "lst1[100]"
      ]
    },
    {
      "cell_type": "code",
      "execution_count": null,
      "id": "923b4e4d-9c33-4622-9407-e86ef507f7a3",
      "metadata": {
        "id": "923b4e4d-9c33-4622-9407-e86ef507f7a3"
      },
      "outputs": [],
      "source": [
        "## Sorting and Reverse method in list"
      ]
    },
    {
      "cell_type": "code",
      "execution_count": null,
      "id": "8dea02ce-e317-4415-a406-80db2133f00e",
      "metadata": {
        "id": "8dea02ce-e317-4415-a406-80db2133f00e",
        "outputId": "b1547319-3b98-40d1-ea32-51a3e3bed220"
      },
      "outputs": [
        {
          "data": {
            "text/plain": [
              "['q', 'e', 'f', 's', 't', 'u']"
            ]
          },
          "execution_count": 169,
          "metadata": {},
          "output_type": "execute_result"
        }
      ],
      "source": [
        "new_list=['q','e','f','s','t','u']\n",
        "new_list"
      ]
    },
    {
      "cell_type": "code",
      "execution_count": null,
      "id": "727be269-ee57-4409-8c20-c1abe48d209d",
      "metadata": {
        "id": "727be269-ee57-4409-8c20-c1abe48d209d",
        "outputId": "4ea80c0f-7e0f-4933-f5af-80e7427f80ea"
      },
      "outputs": [
        {
          "data": {
            "text/plain": [
              "['u', 't', 's', 'f', 'e', 'q']"
            ]
          },
          "execution_count": 170,
          "metadata": {},
          "output_type": "execute_result"
        }
      ],
      "source": [
        "new_list[::-1]"
      ]
    },
    {
      "cell_type": "code",
      "execution_count": null,
      "id": "a56bee5c-a9e4-4655-8755-66325e069116",
      "metadata": {
        "id": "a56bee5c-a9e4-4655-8755-66325e069116"
      },
      "outputs": [],
      "source": [
        "## inplace\n",
        "new_list.reverse()"
      ]
    },
    {
      "cell_type": "code",
      "execution_count": null,
      "id": "1297c213-d7fe-4688-ab3a-8f071821a26b",
      "metadata": {
        "id": "1297c213-d7fe-4688-ab3a-8f071821a26b",
        "outputId": "f6ce6c00-4423-402d-92e8-b31da934c6ce"
      },
      "outputs": [
        {
          "data": {
            "text/plain": [
              "['u', 't', 's', 'f', 'e', 'q']"
            ]
          },
          "execution_count": 173,
          "metadata": {},
          "output_type": "execute_result"
        }
      ],
      "source": [
        "new_list"
      ]
    },
    {
      "cell_type": "code",
      "execution_count": null,
      "id": "a2281e92-24d4-4591-bd03-2e4c5aac21c7",
      "metadata": {
        "id": "a2281e92-24d4-4591-bd03-2e4c5aac21c7"
      },
      "outputs": [],
      "source": [
        "new_list.sort()"
      ]
    },
    {
      "cell_type": "code",
      "execution_count": null,
      "id": "7a71c1ab-cf30-4fce-b6a8-c3e188aa711f",
      "metadata": {
        "id": "7a71c1ab-cf30-4fce-b6a8-c3e188aa711f",
        "outputId": "d4a7babe-8875-4a2e-ff29-56be271b0aac"
      },
      "outputs": [
        {
          "data": {
            "text/plain": [
              "['e', 'f', 'q', 's', 't', 'u']"
            ]
          },
          "execution_count": 175,
          "metadata": {},
          "output_type": "execute_result"
        }
      ],
      "source": [
        "new_list"
      ]
    },
    {
      "cell_type": "code",
      "execution_count": null,
      "id": "f0c1ed7d-c39d-4734-8bdc-ce4780988df6",
      "metadata": {
        "id": "f0c1ed7d-c39d-4734-8bdc-ce4780988df6"
      },
      "outputs": [],
      "source": [
        "new_list.sort(reverse=True)"
      ]
    },
    {
      "cell_type": "code",
      "execution_count": null,
      "id": "d014df4b-2161-43c8-ae50-674dd3bb102a",
      "metadata": {
        "id": "d014df4b-2161-43c8-ae50-674dd3bb102a",
        "outputId": "492b88e3-05bc-473d-fd5f-bd8af10a7816"
      },
      "outputs": [
        {
          "data": {
            "text/plain": [
              "['u', 't', 's', 'q', 'f', 'e']"
            ]
          },
          "execution_count": 185,
          "metadata": {},
          "output_type": "execute_result"
        }
      ],
      "source": [
        "new_list"
      ]
    },
    {
      "cell_type": "code",
      "execution_count": null,
      "id": "98b794c8-cb9b-4add-bbde-10a20c427aad",
      "metadata": {
        "id": "98b794c8-cb9b-4add-bbde-10a20c427aad"
      },
      "outputs": [],
      "source": [
        "lst=[1,2,3,4,5,6]\n",
        "lst.append(10)"
      ]
    },
    {
      "cell_type": "code",
      "execution_count": null,
      "id": "ad4c6dbe-eec0-48b0-b416-60e29da852ba",
      "metadata": {
        "id": "ad4c6dbe-eec0-48b0-b416-60e29da852ba"
      },
      "outputs": [],
      "source": [
        "lst.append(['PW','Skills'])\n"
      ]
    },
    {
      "cell_type": "code",
      "execution_count": null,
      "id": "50aa1068-d051-46ee-809b-eb21f3b4e599",
      "metadata": {
        "id": "50aa1068-d051-46ee-809b-eb21f3b4e599"
      },
      "outputs": [],
      "source": [
        "lst.extend(['PW','Skills'])"
      ]
    },
    {
      "cell_type": "code",
      "execution_count": null,
      "id": "e9c387d1-6469-4ccd-b3dd-b0a6f3f8605d",
      "metadata": {
        "id": "e9c387d1-6469-4ccd-b3dd-b0a6f3f8605d",
        "outputId": "d3b413bb-1c9c-4ef4-bcff-cd96319adb1b"
      },
      "outputs": [
        {
          "data": {
            "text/plain": [
              "[1, 2, 3, 4, 5, 6, 10, 'PW', 'Skills']"
            ]
          },
          "execution_count": 183,
          "metadata": {},
          "output_type": "execute_result"
        }
      ],
      "source": [
        "lst"
      ]
    },
    {
      "cell_type": "markdown",
      "id": "130cbd71-5c1d-4622-a4c5-2d21a252b088",
      "metadata": {
        "id": "130cbd71-5c1d-4622-a4c5-2d21a252b088"
      },
      "source": [
        "## Nested List"
      ]
    },
    {
      "cell_type": "code",
      "execution_count": null,
      "id": "c8c4097a-9e1d-4fc9-83c7-61f2a94372f3",
      "metadata": {
        "id": "c8c4097a-9e1d-4fc9-83c7-61f2a94372f3"
      },
      "outputs": [],
      "source": [
        "# Let's make three lists\n",
        "lst_1=[1,2,3]\n",
        "lst_2=[4,5,6]\n",
        "lst_3=[7,8,9]\n",
        "\n",
        "# Make a list of lists to form a matrix\n",
        "matrix = [lst_1,lst_2,lst_3]"
      ]
    },
    {
      "cell_type": "code",
      "execution_count": null,
      "id": "0b3dc20a-83a3-4e3f-8fbb-ded0afa07703",
      "metadata": {
        "id": "0b3dc20a-83a3-4e3f-8fbb-ded0afa07703",
        "outputId": "5df77581-1236-4fb5-9d42-145f8d787a09"
      },
      "outputs": [
        {
          "data": {
            "text/plain": [
              "[[1, 2, 3], [4, 5, 6], [7, 8, 9]]"
            ]
          },
          "execution_count": 187,
          "metadata": {},
          "output_type": "execute_result"
        }
      ],
      "source": [
        "matrix"
      ]
    },
    {
      "cell_type": "code",
      "execution_count": null,
      "id": "98ebfcc4-83f8-436c-a631-2a7d0a73011f",
      "metadata": {
        "id": "98ebfcc4-83f8-436c-a631-2a7d0a73011f",
        "outputId": "6b2f33f8-3432-4314-a6fd-ef2f66bff0a9"
      },
      "outputs": [
        {
          "data": {
            "text/plain": [
              "6"
            ]
          },
          "execution_count": 190,
          "metadata": {},
          "output_type": "execute_result"
        }
      ],
      "source": [
        "matrix[1][2]"
      ]
    },
    {
      "cell_type": "code",
      "execution_count": null,
      "id": "28e411da-e6c5-4ece-8003-efbcecade45d",
      "metadata": {
        "id": "28e411da-e6c5-4ece-8003-efbcecade45d",
        "outputId": "c0ed00d1-0fe9-47e1-a4df-8e656246d630"
      },
      "outputs": [
        {
          "data": {
            "text/plain": [
              "[8, 9]"
            ]
          },
          "execution_count": 191,
          "metadata": {},
          "output_type": "execute_result"
        }
      ],
      "source": [
        "matrix[2][1:]"
      ]
    },
    {
      "cell_type": "code",
      "execution_count": null,
      "id": "e6564aef-fa0a-4881-ba93-e09825f0ae96",
      "metadata": {
        "id": "e6564aef-fa0a-4881-ba93-e09825f0ae96",
        "outputId": "20d9fe9e-2fa2-40cd-df89-075b6bdf57ab"
      },
      "outputs": [
        {
          "data": {
            "text/plain": [
              "[0, 1, 2, 3, 4, 5, 6, 7, 8, 9, 10, 11, 12, 13, 14, 15, 16, 17, 18, 19]"
            ]
          },
          "execution_count": 204,
          "metadata": {},
          "output_type": "execute_result"
        }
      ],
      "source": [
        "## List Comprehension\n",
        "[i for i in range(20)]"
      ]
    },
    {
      "cell_type": "code",
      "execution_count": null,
      "id": "3447b287-75a7-4aa8-bcd3-5d82339e9c53",
      "metadata": {
        "id": "3447b287-75a7-4aa8-bcd3-5d82339e9c53",
        "outputId": "4f877763-a093-4bd7-f796-40f1973a3249"
      },
      "outputs": [
        {
          "data": {
            "text/plain": [
              "[0,\n",
              " 'ODD',\n",
              " 2,\n",
              " 'ODD',\n",
              " 4,\n",
              " 'ODD',\n",
              " 6,\n",
              " 'ODD',\n",
              " 8,\n",
              " 'ODD',\n",
              " 10,\n",
              " 'ODD',\n",
              " 12,\n",
              " 'ODD',\n",
              " 14,\n",
              " 'ODD',\n",
              " 16,\n",
              " 'ODD',\n",
              " 18,\n",
              " 'ODD']"
            ]
          },
          "execution_count": 211,
          "metadata": {},
          "output_type": "execute_result"
        }
      ],
      "source": [
        "## List Comprehension\n",
        "## Even numbers\n",
        "[i if i%2==0 else \"ODD\" for i in range(0,20)]"
      ]
    },
    {
      "cell_type": "code",
      "execution_count": null,
      "id": "4282592a-9154-423a-80c5-5b3078816eca",
      "metadata": {
        "id": "4282592a-9154-423a-80c5-5b3078816eca"
      },
      "outputs": [],
      "source": [
        "## Assignment \n",
        "## Sum of even numbers and odd numbers\n",
        "lst=[1,2,3,4,5,6,7,8]\n"
      ]
    },
    {
      "cell_type": "code",
      "execution_count": null,
      "id": "e86ab3bf-46c0-4c97-b49f-4e2e2cade2cd",
      "metadata": {
        "id": "e86ab3bf-46c0-4c97-b49f-4e2e2cade2cd",
        "outputId": "f5e4285b-cdd1-489d-861a-d3ae1e5d10ad"
      },
      "outputs": [
        {
          "name": "stdout",
          "output_type": "stream",
          "text": [
            "20\n",
            "16\n"
          ]
        }
      ],
      "source": [
        "lst = [1,2,3,4,5,6,7,8]\n",
        "\n",
        "even_sum = 0\n",
        "odd_sum = 0\n",
        "for i in lst:\n",
        "    if i % 2 ==0:\n",
        "        even_sum += i\n",
        "    else:\n",
        "        odd_sum += i        \n",
        "        \n",
        "print(even_sum)\n",
        "print(odd_sum)\n"
      ]
    },
    {
      "cell_type": "code",
      "execution_count": null,
      "id": "88e4c644-8e40-42d6-8140-870806947749",
      "metadata": {
        "id": "88e4c644-8e40-42d6-8140-870806947749"
      },
      "outputs": [],
      "source": [
        "even_sum=sum([num for num in lst if num%2==0])"
      ]
    },
    {
      "cell_type": "code",
      "execution_count": null,
      "id": "b69a4753-3fad-4085-b1c3-fae94c4849bb",
      "metadata": {
        "id": "b69a4753-3fad-4085-b1c3-fae94c4849bb",
        "outputId": "2b8bfb88-76a2-41da-b378-fdd2c3b42bbb"
      },
      "outputs": [
        {
          "data": {
            "text/plain": [
              "20"
            ]
          },
          "execution_count": 217,
          "metadata": {},
          "output_type": "execute_result"
        }
      ],
      "source": [
        "even_sum"
      ]
    },
    {
      "cell_type": "code",
      "execution_count": null,
      "id": "656a51c4-cf55-4650-bdd8-6f6418a9c445",
      "metadata": {
        "id": "656a51c4-cf55-4650-bdd8-6f6418a9c445",
        "outputId": "019185cc-a93e-42f9-f056-1a8f827d37e5"
      },
      "outputs": [
        {
          "data": {
            "text/plain": [
              "16"
            ]
          },
          "execution_count": 218,
          "metadata": {},
          "output_type": "execute_result"
        }
      ],
      "source": [
        "odd_sum=sum([num for num in lst if num%2!=0])\n",
        "odd_sum"
      ]
    },
    {
      "cell_type": "code",
      "execution_count": null,
      "id": "9ca6fae4-d0b6-434d-a53b-7b1aa899d263",
      "metadata": {
        "id": "9ca6fae4-d0b6-434d-a53b-7b1aa899d263",
        "outputId": "c0f8402f-06c5-4f30-ba56-b3c804abd88f"
      },
      "outputs": [
        {
          "data": {
            "text/plain": [
              "[1, 4, 9, 16, 25, 36, 49, 64, 81, 100]"
            ]
          },
          "execution_count": 219,
          "metadata": {},
          "output_type": "execute_result"
        }
      ],
      "source": [
        "lst=[1,2,3,4,5,6,7,8,9,10]\n",
        "[num**2 for num in lst]"
      ]
    },
    {
      "cell_type": "code",
      "execution_count": null,
      "id": "f02850df-57bd-4be5-b65f-e60452c4f35d",
      "metadata": {
        "id": "f02850df-57bd-4be5-b65f-e60452c4f35d",
        "outputId": "78a000c7-416a-4ef3-c301-194b15d3ef29"
      },
      "outputs": [
        {
          "data": {
            "text/plain": [
              "[1, 2, 3, 4]"
            ]
          },
          "execution_count": 220,
          "metadata": {},
          "output_type": "execute_result"
        }
      ],
      "source": [
        "# Example 2: Create a list of only the positive numbers from a given list\n",
        "numbers = [-2, -1, 0, 1, 2, 3, 4]\n",
        "[num for num in numbers if num > 0]"
      ]
    },
    {
      "cell_type": "code",
      "execution_count": null,
      "id": "bc3e40e6-58dd-4f3d-b35c-139f963848a5",
      "metadata": {
        "id": "bc3e40e6-58dd-4f3d-b35c-139f963848a5",
        "outputId": "353fa246-1504-4feb-d306-f8ab61c09f00"
      },
      "outputs": [
        {
          "data": {
            "text/plain": [
              "['a', 'b', 'c', 'd']"
            ]
          },
          "execution_count": 221,
          "metadata": {},
          "output_type": "execute_result"
        }
      ],
      "source": [
        "# Example 3: Create a list of only the first letters of words in a list\n",
        "words = ['apple', 'banana', 'cherry', 'date']\n",
        "[word[0] for word in words]"
      ]
    },
    {
      "cell_type": "code",
      "execution_count": null,
      "id": "3f16f1b6-3338-471a-9b3c-0447ae9f6d17",
      "metadata": {
        "id": "3f16f1b6-3338-471a-9b3c-0447ae9f6d17"
      },
      "outputs": [],
      "source": [
        "(9/5)*temp+32"
      ]
    },
    {
      "cell_type": "code",
      "execution_count": null,
      "id": "b930955e-f776-4b50-b1e3-a53181ab048e",
      "metadata": {
        "id": "b930955e-f776-4b50-b1e3-a53181ab048e"
      },
      "outputs": [],
      "source": [
        "# Example 4: Convert a list of temperatures from Celsius to Fahrenheit uing list comprehesnion\n",
        "celsius_temperatures = [0, 10, 20, 30, 40, 50]"
      ]
    },
    {
      "cell_type": "code",
      "execution_count": null,
      "id": "a31cca96-8f4c-49cc-86cf-1f103729d2f9",
      "metadata": {
        "id": "a31cca96-8f4c-49cc-86cf-1f103729d2f9",
        "outputId": "a8d9c2df-7fb6-4eda-e25b-f4eddc280873"
      },
      "outputs": [
        {
          "data": {
            "text/plain": [
              "[32.0, 50.0, 68.0, 86.0, 104.0, 122.0]"
            ]
          },
          "execution_count": 223,
          "metadata": {},
          "output_type": "execute_result"
        }
      ],
      "source": [
        "[(9/5)*temp + 32 for temp in celsius_temperatures]"
      ]
    },
    {
      "cell_type": "code",
      "execution_count": null,
      "id": "28fd6b8b-0680-4586-a4bc-9e2c706413c5",
      "metadata": {
        "id": "28fd6b8b-0680-4586-a4bc-9e2c706413c5"
      },
      "outputs": [],
      "source": [
        "# Example 5: Flatten a list of lists into a single list\n",
        "lists = [[1, 2, 3], [4, 5, 6], [7, 8, 9]]"
      ]
    },
    {
      "cell_type": "code",
      "execution_count": null,
      "id": "00f26d35-9cc5-4165-b6e4-5e27e795e951",
      "metadata": {
        "id": "00f26d35-9cc5-4165-b6e4-5e27e795e951",
        "outputId": "98778c58-d8a2-4d1d-9278-5de23d8e6d80"
      },
      "outputs": [
        {
          "data": {
            "text/plain": [
              "[1, 2, 3, 4, 5, 6, 7, 8, 9]"
            ]
          },
          "execution_count": 228,
          "metadata": {},
          "output_type": "execute_result"
        }
      ],
      "source": [
        "[j for i in lists for j in i]"
      ]
    },
    {
      "cell_type": "code",
      "execution_count": null,
      "id": "6cf53d9d-ba8e-44b3-8e9b-4d994d40d6e9",
      "metadata": {
        "id": "6cf53d9d-ba8e-44b3-8e9b-4d994d40d6e9"
      },
      "outputs": [],
      "source": [
        "## Assignment \n",
        "## Using both code and list comprehesnion\n",
        "# Example 2: Create a list of only the prime numbers from a given list\n",
        "numbers = [1, 2, 3, 4, 5, 6, 7, 8, 9, 10]"
      ]
    },
    {
      "cell_type": "code",
      "execution_count": null,
      "id": "f675dd98-6908-4f39-91e8-6b4fd9f8c6cb",
      "metadata": {
        "id": "f675dd98-6908-4f39-91e8-6b4fd9f8c6cb"
      },
      "outputs": [],
      "source": [
        "# Example 3: Create a list of all the possible combinations of 2 elements from a list\n",
        "numbers = [1, 2, 3, 4, 5]"
      ]
    },
    {
      "cell_type": "code",
      "execution_count": null,
      "id": "a0ac2faa-453b-4fda-95eb-f88b0707e089",
      "metadata": {
        "id": "a0ac2faa-453b-4fda-95eb-f88b0707e089",
        "outputId": "ed1f211b-d468-41a1-ef24-d62e626b2c9d"
      },
      "outputs": [
        {
          "data": {
            "text/plain": [
              "((1, 2), (1, 3))"
            ]
          },
          "execution_count": 229,
          "metadata": {},
          "output_type": "execute_result"
        }
      ],
      "source": [
        "(1,2),(1,3)"
      ]
    },
    {
      "cell_type": "code",
      "execution_count": null,
      "id": "9a7a9a8d-17bb-491b-a8e3-9e5a79b17634",
      "metadata": {
        "id": "9a7a9a8d-17bb-491b-a8e3-9e5a79b17634",
        "outputId": "0e5a93ec-7f0e-4610-d075-26d6f5c3b285"
      },
      "outputs": [
        {
          "data": {
            "text/plain": [
              "[1, 2, 3, 4, 5, 6, 7, 8, 9, 10]"
            ]
          },
          "execution_count": 230,
          "metadata": {},
          "output_type": "execute_result"
        }
      ],
      "source": [
        "lst"
      ]
    },
    {
      "cell_type": "code",
      "execution_count": null,
      "id": "15cff215-718e-423e-9129-5dfc0c4ad40b",
      "metadata": {
        "id": "15cff215-718e-423e-9129-5dfc0c4ad40b"
      },
      "outputs": [],
      "source": [
        "lst.insert()"
      ]
    },
    {
      "cell_type": "code",
      "execution_count": null,
      "id": "a2e4d793-767b-4c68-b366-13d4fe7660a3",
      "metadata": {
        "id": "a2e4d793-767b-4c68-b366-13d4fe7660a3"
      },
      "outputs": [],
      "source": [
        "c=1+2j"
      ]
    },
    {
      "cell_type": "code",
      "execution_count": null,
      "id": "b1436805-a8aa-403c-b239-e1308a73cb4d",
      "metadata": {
        "id": "b1436805-a8aa-403c-b239-e1308a73cb4d",
        "outputId": "4d11ce79-0667-4949-c333-70ef28e075f2"
      },
      "outputs": [
        {
          "data": {
            "text/plain": [
              "1.0"
            ]
          },
          "execution_count": 234,
          "metadata": {},
          "output_type": "execute_result"
        }
      ],
      "source": [
        "c.real"
      ]
    }
  ],
  "metadata": {
    "colab": {
      "provenance": []
    },
    "kernelspec": {
      "display_name": "Python 3",
      "language": "python",
      "name": "python3"
    },
    "language_info": {
      "codemirror_mode": {
        "name": "ipython",
        "version": 3
      },
      "file_extension": ".py",
      "mimetype": "text/x-python",
      "name": "python",
      "nbconvert_exporter": "python",
      "pygments_lexer": "ipython3",
      "version": "3.11.0"
    },
    "vscode": {
      "interpreter": {
        "hash": "c261aea317cc0286b3b3261fbba9abdec21eaa57589985bb7a274bf54d6cc0a7"
      }
    }
  },
  "nbformat": 4,
  "nbformat_minor": 5
}
