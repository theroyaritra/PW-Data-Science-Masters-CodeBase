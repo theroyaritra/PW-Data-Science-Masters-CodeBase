{
 "cells": [
  {
   "cell_type": "code",
   "execution_count": 25,
   "metadata": {},
   "outputs": [
    {
     "name": "stdout",
     "output_type": "stream",
     "text": [
      "Valid Password\n"
     ]
    }
   ],
   "source": [
    "''' Q1. You are writing code for a company. The requirement of the company is that you create a python\n",
    "function that will check whether the password entered by the user is correct or not. The function should\n",
    "take the password as input and return the string “Valid Password” if the entered password follows the\n",
    "below-given password guidelines else it should return “Invalid Password”.\n",
    "Note: 1. The Password should contain at least two uppercase letters and at least two lowercase letters.\n",
    "2. The Password should contain at least a number and three special characters.\n",
    "3. The length of the password should be 10 characters long. '''\n",
    "def pass_check(password):\n",
    "    if len(password) != 10:\n",
    "        return \"Invalid Password\"\n",
    "    uppercase, lowercase, num, special = 0,0,0,0\n",
    "    for i in range(0,len(password)):\n",
    "        if(password[i]>='A' and password[i]<='Z'):\n",
    "            uppercase+=1\n",
    "        elif(password[i]>='a' and password[i]<='z'):\n",
    "            lowercase+=1\n",
    "        elif(password[i].isnumeric()):\n",
    "            num+=1\n",
    "        else:\n",
    "            special+=1\n",
    "    if uppercase>=2 and lowercase>=2 and num>=1 and special>=3:\n",
    "        return \"Valid Password\"\n",
    "    return \"Invalid Password\"\n",
    "\n",
    "print(pass_check(\"dHfg4yF#@%\")) # Testing a password"
   ]
  },
  {
   "attachments": {},
   "cell_type": "markdown",
   "metadata": {},
   "source": [
    "Q2. Solve the below-given questions using at least one of the following:\n",
    "1. Lambda function 2. Filter function 3. Map function 4. List Comprehension  \n",
    "a. Check if the string starts with a particular letter.  \n",
    "b. Check if the string is numeric.  \n",
    "c. Sort a list of tuples having fruit names and their quantity. [(\"mango\",99),(\"orange\",80), (\"grapes\", 1000)]  \n",
    "d. Find the squares of numbers from 1 to 10.  \n",
    "e. Find the cube root of numbers from 1 to 10.  \n",
    "f. Check if a given number is even.  \n",
    "g. Filter odd numbers from the given list.  \n",
    "[1,2,3,4,5,6,7,8,9,10]  \n",
    "h. Sort a list of integers into positive and negative integers lists.  \n",
    "[1,2,3,4,5,6,-1,-2,-3,-4,-5,0]  "
   ]
  },
  {
   "cell_type": "code",
   "execution_count": 34,
   "metadata": {},
   "outputs": [
    {
     "name": "stdout",
     "output_type": "stream",
     "text": [
      "Yes\n"
     ]
    }
   ],
   "source": [
    "# Check if the string start with a particular letter (say, b or B)\n",
    "s=input()\n",
    "letter = lambda x : s[0]=='b' or s[0]=='B'\n",
    "if letter(s):\n",
    "    print(\"Yes\")"
   ]
  },
  {
   "cell_type": "code",
   "execution_count": 27,
   "metadata": {},
   "outputs": [
    {
     "data": {
      "text/plain": [
       "True"
      ]
     },
     "execution_count": 27,
     "metadata": {},
     "output_type": "execute_result"
    }
   ],
   "source": [
    "# Check if the string is numeric\n",
    "s=\"4855956\"\n",
    "numeric = lambda x : x.isnumeric()\n",
    "numeric(s)"
   ]
  },
  {
   "cell_type": "code",
   "execution_count": 28,
   "metadata": {},
   "outputs": [
    {
     "name": "stdout",
     "output_type": "stream",
     "text": [
      "[('orange', 80), ('mango', 99), ('grapes', 1000)]\n"
     ]
    }
   ],
   "source": [
    "# Sort a list of tuples having fruit names and their quantity. [(\"mango\",99),(\"orange\",80), (\"grapes\", 1000)]\n",
    "l = [(\"mango\",99),(\"orange\",80), (\"grapes\", 1000)]\n",
    "l.sort(key = lambda x:x[1])\n",
    "print(l)"
   ]
  },
  {
   "cell_type": "code",
   "execution_count": 29,
   "metadata": {},
   "outputs": [
    {
     "data": {
      "text/plain": [
       "[1, 4, 9, 16, 25, 36, 49, 64, 81, 100]"
      ]
     },
     "execution_count": 29,
     "metadata": {},
     "output_type": "execute_result"
    }
   ],
   "source": [
    "# Find the squares of numbers from 1 to 10\n",
    "l = list(range(1,11))\n",
    "square = lambda a : a**2\n",
    "list(map(square,l))"
   ]
  },
  {
   "cell_type": "code",
   "execution_count": 30,
   "metadata": {},
   "outputs": [
    {
     "data": {
      "text/plain": [
       "[1, 8, 27, 64, 125, 216, 343, 512, 729, 1000]"
      ]
     },
     "execution_count": 30,
     "metadata": {},
     "output_type": "execute_result"
    }
   ],
   "source": [
    "# Find the cubes of numbers from 1 to 10\n",
    "l= list(range(1,11))\n",
    "cube = lambda a : a**3\n",
    "list(map(cube,l))"
   ]
  },
  {
   "cell_type": "code",
   "execution_count": 31,
   "metadata": {},
   "outputs": [
    {
     "data": {
      "text/plain": [
       "False"
      ]
     },
     "execution_count": 31,
     "metadata": {},
     "output_type": "execute_result"
    }
   ],
   "source": [
    "# Check if a given number is even\n",
    "n=int(input())\n",
    "even = lambda n : n%2==0\n",
    "even(n)"
   ]
  },
  {
   "cell_type": "code",
   "execution_count": 32,
   "metadata": {},
   "outputs": [
    {
     "name": "stdout",
     "output_type": "stream",
     "text": [
      "[1, 3, 5, 7, 9]\n"
     ]
    }
   ],
   "source": [
    "# Filter odd numbers from the given list. [1,2,3,4,5,6,7,8,9,10]\n",
    "l = [1,2,3,4,5,6,7,8,9,10]\n",
    "odd = lambda a : a%2!=0\n",
    "x = [x for x in l if odd(x)==True]\n",
    "print(x)"
   ]
  },
  {
   "cell_type": "code",
   "execution_count": 33,
   "metadata": {},
   "outputs": [
    {
     "name": "stdout",
     "output_type": "stream",
     "text": [
      "[1, 2, 3, 4, 5, 6]\n",
      "[-1, -2, -3, -4, -5]\n"
     ]
    }
   ],
   "source": [
    "# Sort a list of integers into positive and negative integers lists. [1,2,3,4,5,6,-1,-2,-3,-4,-5,0]\n",
    "l = [1,2,3,4,5,6,-1,-2,-3,-4,-5,0]\n",
    "pos = lambda a : True if a>0 else False\n",
    "p = [x for x in l if pos(x)==True]\n",
    "n = [x for x in l if pos(x)==False and x!=0]\n",
    "print(p)\n",
    "print(n)"
   ]
  }
 ],
 "metadata": {
  "kernelspec": {
   "display_name": "Python 3",
   "language": "python",
   "name": "python3"
  },
  "language_info": {
   "codemirror_mode": {
    "name": "ipython",
    "version": 3
   },
   "file_extension": ".py",
   "mimetype": "text/x-python",
   "name": "python",
   "nbconvert_exporter": "python",
   "pygments_lexer": "ipython3",
   "version": "3.11.0"
  },
  "orig_nbformat": 4
 },
 "nbformat": 4,
 "nbformat_minor": 2
}
