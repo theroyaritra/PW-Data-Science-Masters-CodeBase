{
 "cells": [
  {
   "attachments": {},
   "cell_type": "markdown",
   "metadata": {},
   "source": [
    "1. Class is a blueprint or template from which objects can be created. It is a user-defined type that describes the properties and attributes of a certain type of object. A class description consists of a declaration and a definition.  \n",
    "An object is a single instance of a class. It is possible to create many objects from the same class type."
   ]
  },
  {
   "cell_type": "code",
   "execution_count": 7,
   "metadata": {},
   "outputs": [
    {
     "name": "stdout",
     "output_type": "stream",
     "text": [
      "Name: Mountain Bike, Gears: 11 \n"
     ]
    }
   ],
   "source": [
    "# define a class\n",
    "class Bike:\n",
    "    name = \"\"\n",
    "    gear = 0\n",
    "\n",
    "# create object of class\n",
    "bike1 = Bike()\n",
    "\n",
    "# access attributes and assign new values\n",
    "bike1.gear = 11\n",
    "bike1.name = \"Mountain Bike\"\n",
    "\n",
    "print(f\"Name: {bike1.name}, Gears: {bike1.gear} \")"
   ]
  },
  {
   "attachments": {},
   "cell_type": "markdown",
   "metadata": {},
   "source": [
    "2. The four pillars of OOP are : Encapsulation, Abstraction, Inheritance, Polymorphism."
   ]
  },
  {
   "attachments": {},
   "cell_type": "markdown",
   "metadata": {},
   "source": [
    "3. The \\_\\_init\\_\\_() function is called automatically every time the class is being used to create a new object. It acts as the default constructor function in any class. We use the \\_\\_init\\_\\_() function to assign values to object properties, or other operations that are necessary to do when the object is being created."
   ]
  },
  {
   "cell_type": "code",
   "execution_count": 1,
   "metadata": {},
   "outputs": [
    {
     "name": "stdout",
     "output_type": "stream",
     "text": [
      "Aritra Roy\n",
      "B.S. in Data Science and Applications from IIT-M\n",
      "22\n"
     ]
    }
   ],
   "source": [
    "class Person:\n",
    "  def __init__(self, name, degree, age):\n",
    "    self.name = name\n",
    "    self.degree = degree\n",
    "    self.age = age\n",
    "\n",
    "p1 = Person(\"Aritra Roy\", \"B.S. in Data Science and Applications from IIT-M\",22)\n",
    "\n",
    "print(p1.name)\n",
    "print(p1.degree)\n",
    "print(p1.age)"
   ]
  },
  {
   "attachments": {},
   "cell_type": "markdown",
   "metadata": {},
   "source": [
    "4. The self in keyword in Python is used to all the instances in a class. By using the self keyword, one can easily access all the instances defined within a class, including its methods and attributes."
   ]
  },
  {
   "attachments": {},
   "cell_type": "markdown",
   "metadata": {},
   "source": [
    "5. Inheritance is a mechanism in which one class acquires the property of another class. For example, a child inherits the traits of his/her parents. With inheritance, we can reuse the fields and methods of the existing class. Hence, inheritance facilitates reusability and is an important concept of OOPs."
   ]
  },
  {
   "cell_type": "code",
   "execution_count": 2,
   "metadata": {},
   "outputs": [
    {
     "name": "stdout",
     "output_type": "stream",
     "text": [
      "Hey there, you are in the parent class\n",
      "Hey there, you are in the sub class\n",
      "Hey there, you are in the parent class\n"
     ]
    }
   ],
   "source": [
    "# Single Inheritance\n",
    "class Above:\n",
    "    i = 5\n",
    "    def fun1(self):\n",
    "        print(\"Hey there, you are in the parent class\")\n",
    "\n",
    "#subclass\n",
    "class Below(Above):\n",
    "    i=10\n",
    "    def fun2(self):\n",
    "        print(\"Hey there, you are in the sub class\")\n",
    "\n",
    "temp1=Below()\n",
    "temp2=Above()\n",
    "temp1.fun1()\n",
    "temp1.fun2()\n",
    "temp2.fun1()"
   ]
  },
  {
   "cell_type": "code",
   "execution_count": 5,
   "metadata": {},
   "outputs": [
    {
     "name": "stdout",
     "output_type": "stream",
     "text": [
      "Hey there, you are in the parent class\n",
      "Hey there, you are in the sub class\n",
      "Hey there, you are in the parent class\n"
     ]
    }
   ],
   "source": [
    "#Multiple inheritance\n",
    "class Above:\n",
    "    i = 5\n",
    "    def fun1(self):\n",
    "        print(\"Hey there, you are in the parent class\")\n",
    "\n",
    "#subclass\n",
    "class Below(Above):\n",
    "    i=10\n",
    "    def fun2(self):\n",
    "        print(\"Hey there, you are in the sub class\")\n",
    "\n",
    "temp1=Below()\n",
    "temp2=Above()\n",
    "temp1.fun1()\n",
    "temp1.fun2()\n",
    "temp2.fun1()"
   ]
  },
  {
   "cell_type": "code",
   "execution_count": 6,
   "metadata": {},
   "outputs": [
    {
     "name": "stdout",
     "output_type": "stream",
     "text": [
      "Electric car runs on electricity\n",
      "A car has 4 wheels\n",
      "Vehicles are used for transportation\n"
     ]
    }
   ],
   "source": [
    "# Multi-level Inheritance\n",
    "class vehicle:\n",
    "    def functioning(self):\n",
    "        print(\"Vehicles are used for transportation\")\n",
    "\n",
    "#child class 1\n",
    "class car(vehicle):\n",
    "    def wheels(self):\n",
    "        print(\"A car has 4 wheels\")\n",
    "       \n",
    "#child class 2\n",
    "class electric_car(car):\n",
    "    def speciality(self):\n",
    "        print(\"Electric car runs on electricity\")\n",
    "\n",
    "electric=electric_car()\n",
    "electric.speciality()\n",
    "electric.wheels()\n",
    "electric.functioning()"
   ]
  }
 ],
 "metadata": {
  "kernelspec": {
   "display_name": "Python 3",
   "language": "python",
   "name": "python3"
  },
  "language_info": {
   "codemirror_mode": {
    "name": "ipython",
    "version": 3
   },
   "file_extension": ".py",
   "mimetype": "text/x-python",
   "name": "python",
   "nbconvert_exporter": "python",
   "pygments_lexer": "ipython3",
   "version": "3.11.0"
  },
  "orig_nbformat": 4
 },
 "nbformat": 4,
 "nbformat_minor": 2
}
